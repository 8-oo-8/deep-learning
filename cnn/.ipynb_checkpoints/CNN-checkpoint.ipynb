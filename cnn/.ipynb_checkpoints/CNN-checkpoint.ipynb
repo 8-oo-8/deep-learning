{
 "cells": [
  {
   "cell_type": "markdown",
   "id": "careful-acoustic",
   "metadata": {},
   "source": [
    "## Use Convolutional Neural Network to train models for MNIST"
   ]
  },
  {
   "cell_type": "markdown",
   "id": "industrial-harmony",
   "metadata": {},
   "source": [
    "#### Code from <https://blog.csdn.net/qq_34714751/article/details/85610966>"
   ]
  },
  {
   "cell_type": "markdown",
   "id": "authentic-station",
   "metadata": {},
   "source": [
    "### Import libraries"
   ]
  },
  {
   "cell_type": "code",
   "execution_count": 1,
   "id": "partial-celtic",
   "metadata": {},
   "outputs": [],
   "source": [
    "import torch\n",
    "from torch.utils import data\n",
    "from torch.autograd import Variable\n",
    "import torchvision\n",
    "from torchvision.datasets import mnist\n",
    "import matplotlib.pyplot as plt"
   ]
  },
  {
   "cell_type": "markdown",
   "id": "vocational-actress",
   "metadata": {},
   "source": [
    "### Pre-processing data"
   ]
  },
  {
   "cell_type": "code",
   "execution_count": 2,
   "id": "collected-hearing",
   "metadata": {},
   "outputs": [],
   "source": [
    "data_tf = torchvision.transforms.Compose(\n",
    "    [\n",
    "        torchvision.transforms.ToTensor(),\n",
    "        torchvision.transforms.Normalize([0.5], [0.5])\n",
    "    ]\n",
    ")\n",
    "\n",
    "data_path = \"./data\"\n",
    "\n",
    "train_data = mnist.MNIST(data_path, train=True,transform=data_tf,download=True)\n",
    "test_data = mnist.MNIST(data_path, train=False, transform=data_tf, download=True)"
   ]
  },
  {
   "cell_type": "markdown",
   "id": "hawaiian-belly",
   "metadata": {},
   "source": [
    "#### Load the data"
   ]
  },
  {
   "cell_type": "code",
   "execution_count": 3,
   "id": "reverse-forth",
   "metadata": {},
   "outputs": [],
   "source": [
    "train_loader = data.DataLoader(train_data, batch_size=128,shuffle=True)\n",
    "test_loader = data.DataLoader(test_data, batch_size=100,shuffle=True)"
   ]
  },
  {
   "cell_type": "markdown",
   "id": "accompanied-union",
   "metadata": {},
   "source": [
    "#### Define CNN class"
   ]
  },
  {
   "cell_type": "code",
   "execution_count": 4,
   "id": "demanding-costs",
   "metadata": {},
   "outputs": [
    {
     "name": "stdout",
     "output_type": "stream",
     "text": [
      "CNNnet(\n",
      "  (conv1): Sequential(\n",
      "    (0): Conv2d(1, 16, kernel_size=(3, 3), stride=(2, 2), padding=(1, 1))\n",
      "    (1): BatchNorm2d(16, eps=1e-05, momentum=0.1, affine=True, track_running_stats=True)\n",
      "    (2): ReLU()\n",
      "  )\n",
      "  (conv2): Sequential(\n",
      "    (0): Conv2d(16, 32, kernel_size=(3, 3), stride=(2, 2), padding=(1, 1))\n",
      "    (1): BatchNorm2d(32, eps=1e-05, momentum=0.1, affine=True, track_running_stats=True)\n",
      "    (2): ReLU()\n",
      "  )\n",
      "  (conv3): Sequential(\n",
      "    (0): Conv2d(32, 64, kernel_size=(3, 3), stride=(2, 2), padding=(1, 1))\n",
      "    (1): BatchNorm2d(64, eps=1e-05, momentum=0.1, affine=True, track_running_stats=True)\n",
      "    (2): ReLU()\n",
      "  )\n",
      "  (conv4): Sequential(\n",
      "    (0): Conv2d(64, 64, kernel_size=(2, 2), stride=(2, 2))\n",
      "    (1): BatchNorm2d(64, eps=1e-05, momentum=0.1, affine=True, track_running_stats=True)\n",
      "    (2): ReLU()\n",
      "  )\n",
      "  (mlp1): Linear(in_features=256, out_features=100, bias=True)\n",
      "  (mlp2): Linear(in_features=100, out_features=10, bias=True)\n",
      ")\n"
     ]
    }
   ],
   "source": [
    "class CNNnet(torch.nn.Module):\n",
    "    def __init__(self):\n",
    "        super(CNNnet, self).__init__()\n",
    "        self.conv1 = torch.nn.Sequential(\n",
    "            torch.nn.Conv2d(in_channels=1,\n",
    "                            out_channels=16,\n",
    "                            kernel_size=3,\n",
    "                            stride=2,\n",
    "                            padding=1),\n",
    "            torch.nn.BatchNorm2d(16),\n",
    "            torch.nn.ReLU()\n",
    "        )\n",
    "        self.conv2 = torch.nn.Sequential(\n",
    "            torch.nn.Conv2d(16,32,3,2,1),\n",
    "            torch.nn.BatchNorm2d(32),\n",
    "            torch.nn.ReLU()\n",
    "        )\n",
    "        self.conv3 = torch.nn.Sequential(\n",
    "            torch.nn.Conv2d(32,64,3,2,1),\n",
    "            torch.nn.BatchNorm2d(64),\n",
    "            torch.nn.ReLU()\n",
    "        )\n",
    "        self.conv4 = torch.nn.Sequential(\n",
    "            torch.nn.Conv2d(64,64,2,2,0),\n",
    "            torch.nn.BatchNorm2d(64),\n",
    "            torch.nn.ReLU()\n",
    "        )\n",
    "        self.mlp1 = torch.nn.Linear(2*2*64, 100)\n",
    "        self.mlp2 = torch.nn.Linear(100,10)\n",
    "    def forward(self, x):\n",
    "        x = self.conv1(x)\n",
    "        x = self.conv2(x)\n",
    "        x = self.conv3(x)\n",
    "        x = self.conv4(x)\n",
    "        x = self.mlp1(x.view(x.size(0),-1))\n",
    "        x = self.mlp2(x)\n",
    "        return x\n",
    "model = CNNnet()\n",
    "print(model)"
   ]
  },
  {
   "cell_type": "markdown",
   "id": "formed-literacy",
   "metadata": {},
   "source": [
    "#### Define the loss function (use Cross Entropy Loss)"
   ]
  },
  {
   "cell_type": "code",
   "execution_count": 5,
   "id": "recreational-farmer",
   "metadata": {},
   "outputs": [],
   "source": [
    "loss_func = torch.nn.CrossEntropyLoss()\n",
    "opt = torch.optim.Adam(model.parameters(), lr=0.001)"
   ]
  },
  {
   "cell_type": "markdown",
   "id": "governmental-arcade",
   "metadata": {},
   "source": [
    "#### Train the network model"
   ]
  },
  {
   "cell_type": "code",
   "execution_count": 6,
   "id": "julian-windsor",
   "metadata": {},
   "outputs": [
    {
     "name": "stdout",
     "output_type": "stream",
     "text": [
      "0:\t 2.3427038192749023\n",
      "accuracy:\t 0.19\n",
      "20:\t 0.7227176427841187\n",
      "40:\t 0.3563325107097626\n",
      "60:\t 0.14536762237548828\n",
      "80:\t 0.16066032648086548\n",
      "100:\t 0.15544036030769348\n",
      "accuracy:\t 0.96\n",
      "120:\t 0.09654481709003448\n",
      "140:\t 0.07153500616550446\n",
      "160:\t 0.1105925440788269\n",
      "180:\t 0.10321833938360214\n",
      "200:\t 0.07298372685909271\n",
      "accuracy:\t 0.99\n",
      "220:\t 0.025652041658759117\n",
      "240:\t 0.23173917829990387\n",
      "260:\t 0.06232756748795509\n",
      "280:\t 0.025510068982839584\n",
      "300:\t 0.10292801260948181\n",
      "accuracy:\t 0.97\n",
      "320:\t 0.05463138967752457\n",
      "340:\t 0.02875240333378315\n",
      "360:\t 0.08092643320560455\n",
      "380:\t 0.042296815663576126\n",
      "400:\t 0.05136122182011604\n",
      "accuracy:\t 0.98\n",
      "420:\t 0.09629746526479721\n",
      "440:\t 0.02536819502711296\n",
      "460:\t 0.11060481518507004\n",
      "0:\t 0.013553312048316002\n",
      "accuracy:\t 1.0\n",
      "20:\t 0.015538066625595093\n",
      "40:\t 0.09168735146522522\n",
      "60:\t 0.021786553785204887\n",
      "80:\t 0.012831968255341053\n",
      "100:\t 0.04932253807783127\n",
      "accuracy:\t 0.99\n",
      "120:\t 0.02284947596490383\n",
      "140:\t 0.049107685685157776\n",
      "160:\t 0.04015817493200302\n",
      "180:\t 0.1099683865904808\n",
      "200:\t 0.07403195649385452\n",
      "accuracy:\t 1.0\n",
      "220:\t 0.03963491693139076\n",
      "240:\t 0.05971663445234299\n",
      "260:\t 0.052098099142313004\n",
      "280:\t 0.03958187624812126\n",
      "300:\t 0.10033533722162247\n",
      "accuracy:\t 0.98\n",
      "320:\t 0.030545024201273918\n",
      "340:\t 0.017772845923900604\n",
      "360:\t 0.04991023987531662\n",
      "380:\t 0.03647436201572418\n",
      "400:\t 0.03316948935389519\n",
      "accuracy:\t 0.99\n",
      "420:\t 0.10634387284517288\n",
      "440:\t 0.042846016585826874\n",
      "460:\t 0.03756158426403999\n"
     ]
    },
    {
     "data": {
      "image/png": "[encoded data removed]",
      "text/plain": [
       "<Figure size 432x288 with 1 Axes>"
      ]
     },
     "metadata": {
      "needs_background": "light"
     },
     "output_type": "display_data"
    }
   ],
   "source": [
    "loss_count = []\n",
    "for epoch in range(2):\n",
    "    for i,(x,y) in enumerate(train_loader):\n",
    "        batch_x = Variable(x) # torch.Size([128, 1, 28, 28])\n",
    "        batch_y = Variable(y) # torch.Size([128])\n",
    "        # 获取最后输出\n",
    "        out = model(batch_x) # torch.Size([128,10])\n",
    "        # 获取损失\n",
    "        loss = loss_func(out,batch_y)\n",
    "        # 使用优化器优化损失\n",
    "        opt.zero_grad()  # 清空上一步残余更新参数值\n",
    "        loss.backward() # 误差反向传播，计算参数更新值\n",
    "        opt.step() # 将参数更新值施加到net的parmeters上\n",
    "        if i%20 == 0:\n",
    "            loss_count.append(loss)\n",
    "            print('{}:\\t'.format(i), loss.item())\n",
    "        if i % 100 == 0:\n",
    "            for a,b in test_loader:\n",
    "                test_x = Variable(a)\n",
    "                test_y = Variable(b)\n",
    "                out = model(test_x)\n",
    "                accuracy = torch.max(out,1)[1].numpy() == test_y.numpy()\n",
    "                print('accuracy:\\t',accuracy.mean())\n",
    "                break\n",
    "plt.figure('PyTorch_CNN_Loss')\n",
    "plt.plot(loss_count,label='Loss')\n",
    "plt.legend()\n",
    "plt.show()"
   ]
  }
 ],
 "metadata": {
  "kernelspec": {
   "display_name": "Python 3",
   "language": "python",
   "name": "python3"
  },
  "language_info": {
   "codemirror_mode": {
    "name": "ipython",
    "version": 3
   },
   "file_extension": ".py",
   "mimetype": "text/x-python",
   "name": "python",
   "nbconvert_exporter": "python",
   "pygments_lexer": "ipython3",
   "version": "3.8.5"
  }
 },
 "nbformat": 4,
 "nbformat_minor": 5
}
