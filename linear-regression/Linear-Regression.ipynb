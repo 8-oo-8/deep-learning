{
 "cells": [
  {
   "cell_type": "markdown",
   "id": "harmful-factor",
   "metadata": {},
   "source": [
    "### Import the library"
   ]
  },
  {
   "cell_type": "code",
   "execution_count": 1,
   "id": "favorite-jamaica",
   "metadata": {},
   "outputs": [],
   "source": [
    "import numpy as np\n",
    "import torch"
   ]
  },
  {
   "cell_type": "markdown",
   "id": "civilian-alaska",
   "metadata": {},
   "source": [
    "### Read in data"
   ]
  },
  {
   "cell_type": "code",
   "execution_count": 2,
   "id": "sensitive-mercy",
   "metadata": {},
   "outputs": [],
   "source": [
    "raw = np.genfromtxt(\"./IRIS.csv\", delimiter=',', dtype='float32')\n",
    "data = raw[1:,:-1]\n",
    "target_np = np.zeros((150, 3))\n",
    "target_np[0:50, 0] = 1\n",
    "target_np[50:100, 1] = 1\n",
    "target_np[100:150, 2] = 1"
   ]
  },
  {
   "cell_type": "markdown",
   "id": "temporal-dynamics",
   "metadata": {},
   "source": [
    "### Get data into torch tensor"
   ]
  },
  {
   "cell_type": "code",
   "execution_count": 3,
   "id": "jewish-recruitment",
   "metadata": {},
   "outputs": [],
   "source": [
    "data_tensor = torch.from_numpy(data)\n",
    "target = torch.from_numpy(target_np)"
   ]
  },
  {
   "cell_type": "markdown",
   "id": "qualified-recipe",
   "metadata": {},
   "source": [
    "### Initialising linear regression"
   ]
  },
  {
   "cell_type": "code",
   "execution_count": 4,
   "id": "agricultural-gasoline",
   "metadata": {},
   "outputs": [],
   "source": [
    "weight = torch.randn(3, 4, requires_grad=True)\n",
    "bias = torch.randn(3, requires_grad=True)\n",
    "\n",
    "def model(x):\n",
    "    return x @ weight.t() + bias\n",
    "\n",
    "def mse(predict, target):\n",
    "    difference = predict - target\n",
    "    return torch.sum(difference * difference) / difference.numel()\n"
   ]
  },
  {
   "cell_type": "markdown",
   "id": "victorian-sympathy",
   "metadata": {},
   "source": [
    "### Start to study"
   ]
  },
  {
   "cell_type": "code",
   "execution_count": 230,
   "id": "relevant-intro",
   "metadata": {},
   "outputs": [],
   "source": [
    "for i in range(2000):\n",
    "    predict = model(data_tensor)\n",
    "    loss = mse(predict, target)\n",
    "    loss.backward()\n",
    "    with torch.no_grad():\n",
    "        weight -= weight.grad * 1e-5\n",
    "        bias -= bias.grad * 1e-5\n",
    "        weight.grad.zero_()\n",
    "        bias.grad.zero_()"
   ]
  },
  {
   "cell_type": "markdown",
   "id": "voluntary-chocolate",
   "metadata": {},
   "source": [
    "### Code to show the current loss"
   ]
  },
  {
   "cell_type": "code",
   "execution_count": 231,
   "id": "stylish-organizer",
   "metadata": {},
   "outputs": [
    {
     "name": "stdout",
     "output_type": "stream",
     "text": [
      "tensor(0.1321, dtype=torch.float64, grad_fn=<DivBackward0>)\n"
     ]
    }
   ],
   "source": [
    "predict = model(data_tensor)\n",
    "loss = mse(predict, target)\n",
    "print(loss)"
   ]
  },
  {
   "cell_type": "markdown",
   "id": "loving-fitness",
   "metadata": {},
   "source": [
    "### Function to return the corresponding flower type by inputting data"
   ]
  },
  {
   "cell_type": "code",
   "execution_count": 7,
   "id": "complimentary-charity",
   "metadata": {},
   "outputs": [],
   "source": [
    "def distinguish(list_data):\n",
    "    if not len(list_data) == 4:\n",
    "        return None\n",
    "    else:\n",
    "        list_np = np.array(list_data, dtype='float32')\n",
    "        list_torch = torch.from_numpy(list_np)\n",
    "        rtn_torch = list_torch @ weight.t() + bias\n",
    "        rtn_np = rtn_torch.detach().numpy()\n",
    "        final_index = np.argmax(rtn_np)\n",
    "        if final_index == 0:\n",
    "            return \"Iris-setosa\"\n",
    "        elif final_index == 1:\n",
    "            return \"Iris-versicolor\"\n",
    "        else:\n",
    "            return \"Iris-virginica\""
   ]
  },
  {
   "cell_type": "markdown",
   "id": "musical-reminder",
   "metadata": {},
   "source": [
    "### Correctness"
   ]
  },
  {
   "cell_type": "code",
   "execution_count": 235,
   "id": "obvious-shark",
   "metadata": {},
   "outputs": [
    {
     "name": "stdout",
     "output_type": "stream",
     "text": [
      "0.7266666666666667\n"
     ]
    }
   ],
   "source": [
    "total = len(data)\n",
    "correct = 0\n",
    "for index in range(total):\n",
    "    if 0 <= index < 50:\n",
    "        if distinguish(data[index].tolist()) == \"Iris-setosa\":\n",
    "            correct += 1\n",
    "    elif 50 <= index < 100:\n",
    "        if distinguish(data[index].tolist()) == \"Iris-versicolor\":\n",
    "            correct += 1\n",
    "    elif 100 <= index < 150:\n",
    "        if distinguish(data[index].tolist()) == \"Iris-virginica\":\n",
    "            correct += 1\n",
    "print(correct / total)"
   ]
  }
 ],
 "metadata": {
  "kernelspec": {
   "display_name": "Python 3",
   "language": "python",
   "name": "python3"
  },
  "language_info": {
   "codemirror_mode": {
    "name": "ipython",
    "version": 3
   },
   "file_extension": ".py",
   "mimetype": "text/x-python",
   "name": "python",
   "nbconvert_exporter": "python",
   "pygments_lexer": "ipython3",
   "version": "3.8.5"
  }
 },
 "nbformat": 4,
 "nbformat_minor": 5
}
