{
 "cells": [
  {
   "cell_type": "markdown",
   "id": "ranking-bedroom",
   "metadata": {},
   "source": [
    "### Import the library"
   ]
  },
  {
   "cell_type": "code",
   "execution_count": 1,
   "id": "amino-parking",
   "metadata": {},
   "outputs": [],
   "source": [
    "import numpy as np\n",
    "import torch"
   ]
  },
  {
   "cell_type": "markdown",
   "id": "happy-cache",
   "metadata": {},
   "source": [
    "### Read in data"
   ]
  },
  {
   "cell_type": "code",
   "execution_count": 50,
   "id": "charming-degree",
   "metadata": {},
   "outputs": [],
   "source": [
    "raw = np.genfromtxt(\"./IRIS.csv\", delimiter=',', dtype='float32')\n",
    "data = raw[1:,:-1]\n",
    "target_np = np.zeros((150, 3))\n",
    "target_np[0:50, 0] = 1\n",
    "target_np[50:100, 1] = 1\n",
    "target_np[100:150, 2] = 1"
   ]
  },
  {
   "cell_type": "markdown",
   "id": "northern-windsor",
   "metadata": {},
   "source": [
    "### Get data into torch tensor"
   ]
  },
  {
   "cell_type": "code",
   "execution_count": 51,
   "id": "industrial-forge",
   "metadata": {},
   "outputs": [],
   "source": [
    "data_tensor = torch.from_numpy(data)\n",
    "target = torch.from_numpy(target_np)"
   ]
  },
  {
   "cell_type": "markdown",
   "id": "coastal-nashville",
   "metadata": {},
   "source": [
    "### Initialising linear regression"
   ]
  },
  {
   "cell_type": "code",
   "execution_count": 53,
   "id": "buried-arrest",
   "metadata": {},
   "outputs": [],
   "source": [
    "weight = torch.randn(3, 4, requires_grad=True)\n",
    "bias = torch.randn(3, requires_grad=True)\n",
    "\n",
    "def model(x):\n",
    "    return x @ weight.t() + bias\n",
    "\n",
    "def mse(predict, target):\n",
    "    difference = predict - target\n",
    "    return torch.sum(difference * difference) / difference.numel()\n"
   ]
  },
  {
   "cell_type": "markdown",
   "id": "revised-hawaii",
   "metadata": {},
   "source": [
    "### Start to study"
   ]
  },
  {
   "cell_type": "code",
   "execution_count": 118,
   "id": "eligible-airport",
   "metadata": {},
   "outputs": [],
   "source": [
    "for i in range(2000):\n",
    "    predict = model(data_tensor)\n",
    "    loss = mse(predict, target)\n",
    "    loss.backward()\n",
    "    with torch.no_grad():\n",
    "        weight -= weight.grad * 1e-6\n",
    "        bias -= bias.grad * 1e-6\n",
    "        weight.grad.zero_()\n",
    "        bias.grad.zero_()"
   ]
  },
  {
   "cell_type": "markdown",
   "id": "swiss-motorcycle",
   "metadata": {},
   "source": [
    "### Code to show the current loss"
   ]
  },
  {
   "cell_type": "code",
   "execution_count": 119,
   "id": "direct-member",
   "metadata": {},
   "outputs": [
    {
     "name": "stdout",
     "output_type": "stream",
     "text": [
      "tensor(0.5222, dtype=torch.float64, grad_fn=<DivBackward0>)\n"
     ]
    }
   ],
   "source": [
    "predict = model(data_tensor)\n",
    "loss = mse(predict, target)\n",
    "print(loss)"
   ]
  },
  {
   "cell_type": "markdown",
   "id": "absolute-battlefield",
   "metadata": {},
   "source": [
    "### Function to return the corresponding flower type by inputting data"
   ]
  },
  {
   "cell_type": "code",
   "execution_count": 92,
   "id": "addressed-crisis",
   "metadata": {},
   "outputs": [],
   "source": [
    "def distinguish(list_data):\n",
    "    if not len(list_data) == 4:\n",
    "        return None\n",
    "    else:\n",
    "        list_np = np.array(list_data, dtype='float32')\n",
    "        list_torch = torch.from_numpy(list_np)\n",
    "        rtn_torch = list_torch @ weight.t() + bias\n",
    "        rtn_np = rtn_torch.detach().numpy()\n",
    "        final_index = np.argmax(rtn_np)\n",
    "        if final_index == 0:\n",
    "            return \"Iris-setosa\"\n",
    "        elif final_index == 1:\n",
    "            return \"Iris-versicolor\"\n",
    "        else:\n",
    "            return \"Iris-virginica\""
   ]
  },
  {
   "cell_type": "markdown",
   "id": "raised-crown",
   "metadata": {},
   "source": [
    "### Test functions"
   ]
  },
  {
   "cell_type": "code",
   "execution_count": 120,
   "id": "constitutional-allah",
   "metadata": {},
   "outputs": [
    {
     "name": "stdout",
     "output_type": "stream",
     "text": [
      "Iris-versicolor\n",
      "Iris-versicolor\n",
      "Iris-virginica\n"
     ]
    }
   ],
   "source": [
    "print(distinguish([4.6,3.4,1.4,0.3]))\n",
    "print(distinguish([5.8,2.7,4.1,1]))\n",
    "print(distinguish([6.2, 2.8, 4.8, 1.8])) "
   ]
  }
 ],
 "metadata": {
  "kernelspec": {
   "display_name": "Python 3",
   "language": "python",
   "name": "python3"
  },
  "language_info": {
   "codemirror_mode": {
    "name": "ipython",
    "version": 3
   },
   "file_extension": ".py",
   "mimetype": "text/x-python",
   "name": "python",
   "nbconvert_exporter": "python",
   "pygments_lexer": "ipython3",
   "version": "3.8.5"
  }
 },
 "nbformat": 4,
 "nbformat_minor": 5
}
